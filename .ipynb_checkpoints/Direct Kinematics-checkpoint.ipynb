{
 "cells": [
  {
   "cell_type": "markdown",
   "metadata": {},
   "source": [
    "# Direct Kinematics\n",
    "\n",
    "In order to calculate the direct kinematics"
   ]
  },
  {
   "cell_type": "code",
   "execution_count": 50,
   "metadata": {
    "collapsed": false
   },
   "outputs": [],
   "source": [
    "from sympy import *\n",
    "import numpy as np\n",
    "import math\n",
    "\n",
    "def calc_denavit_hartenberg(parameters):\n",
    "    \n",
    "    # Create identity matrix\n",
    "    A = np.eye(4)\n",
    "    \n",
    "    # Substitute the parameters in the matrix and multiply\n",
    "    for param in parameters:\n",
    "        alpha = param.item(0,0)\n",
    "        a = param.item(0,1)\n",
    "        d = param.item(0,2)\n",
    "        theta = param.item(0,3)\n",
    "        \n",
    "        newA = np.matrix([[cos(theta), -cos(alpha)*sin(theta),  sin(alpha)*sin(theta), a*cos(theta)],\n",
    "                          [sin(theta),  cos(alpha)*cos(theta), -sin(alpha)*cos(theta), a*sin(theta)],\n",
    "                          [         0,             sin(alpha),             cos(alpha),            d],\n",
    "                          [         0,                      0,                      0,            1]])\n",
    "        \n",
    "        A = np.dot(A, newA)\n",
    "        \n",
    "    return A\n",
    "\n",
    "parameters = np.matrix([[0, Symbol('a1'), Symbol('d1'), Symbol('q1')],\n",
    "                        [0, Symbol('a2'), 0, Symbol('q2')],\n",
    "                        [0, 0, Symbol('q3'), 0],\n",
    "                        [math.pi, 0, Symbol('d4'), Symbol('q4')]])\n",
    "\n",
    "A = calc_denavit_hartenberg(parameters)\n",
    "A = simplify(A)"
   ]
  }
 ],
 "metadata": {
  "kernelspec": {
   "display_name": "Python 3",
   "language": "python",
   "name": "python3"
  },
  "language_info": {
   "codemirror_mode": {
    "name": "ipython",
    "version": 3
   },
   "file_extension": ".py",
   "mimetype": "text/x-python",
   "name": "python",
   "nbconvert_exporter": "python",
   "pygments_lexer": "ipython3",
   "version": "3.6.0"
  }
 },
 "nbformat": 4,
 "nbformat_minor": 2
}
