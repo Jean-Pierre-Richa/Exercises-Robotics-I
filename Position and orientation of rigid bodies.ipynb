{
 "cells": [
  {
   "cell_type": "markdown",
   "metadata": {},
   "source": [
    "# Position and orientation of rigid bodies\n",
    "\n",
    "Define functions to work with rigid bodies"
   ]
  },
  {
   "cell_type": "markdown",
   "metadata": {},
   "source": [
    "## Import functions needed"
   ]
  },
  {
   "cell_type": "code",
   "execution_count": 21,
   "metadata": {
    "collapsed": false,
    "deletable": true,
    "editable": true
   },
   "outputs": [],
   "source": [
    "import numpy as np\n",
    "import math"
   ]
  },
  {
   "cell_type": "markdown",
   "metadata": {},
   "source": [
    "## Rotational matrix\n",
    "Given an angle $\\theta$ and a vector $r$, return a rotational matrix of the angle $\\theta$ around the vector $r$."
   ]
  },
  {
   "cell_type": "code",
   "execution_count": 22,
   "metadata": {
    "collapsed": true
   },
   "outputs": [],
   "source": [
    "def rotational(theta, r):\n",
    "    # Separate x, y and z from vector r\n",
    "    rx = r.item(0)\n",
    "    ry = r.item(1)\n",
    "    rz = r.item(2)\n",
    "    \n",
    "    # Calculate sin an cos of theta\n",
    "    s = math.sin(theta)\n",
    "    c = math.cos(theta)\n",
    "    \n",
    "    # Calculate rotational matrix\n",
    "    rot = np.matrix([[rx*rx*(1-c)+c,    rx*ry*(1-c)-rz*s, rx*rz*(1-c)+ry*s],\n",
    "                     [rx*ry*(1-c)+rz*s, ry*ry*(1-c)+c,    ry*rz*(1-c)-rx*s],\n",
    "                     [rx*rz*(1-c)-ry*s, ry*rz*(1-c)+rx*s, rz*rz*(1-c)+c   ]])\n",
    "    \n",
    "    return rot"
   ]
  },
  {
   "cell_type": "markdown",
   "metadata": {},
   "source": [
    "### Example\n",
    "Rotational matrix of $\\Pi$ around the vector $z$."
   ]
  },
  {
   "cell_type": "code",
   "execution_count": 53,
   "metadata": {
    "collapsed": false
   },
   "outputs": [
    {
     "name": "stdout",
     "output_type": "stream",
     "text": [
      "[[ -1.00000000e+00  -1.22464680e-16   0.00000000e+00]\n",
      " [  1.22464680e-16  -1.00000000e+00   0.00000000e+00]\n",
      " [  0.00000000e+00   0.00000000e+00   1.00000000e+00]]\n"
     ]
    }
   ],
   "source": [
    "theta = math.pi\n",
    "r = np.matrix([0,0,1])\n",
    "R = rotational(theta, r)\n",
    "print(R)"
   ]
  },
  {
   "cell_type": "markdown",
   "metadata": {},
   "source": [
    "## Inverse of rotational matrix\n",
    "Given a rotational matrix $R$, return a unit vector $r$ and an angle $\\theta$."
   ]
  },
  {
   "cell_type": "code",
   "execution_count": 78,
   "metadata": {
    "collapsed": false
   },
   "outputs": [],
   "source": [
    "def inv_rotational(R):\n",
    "    # Calculate R - R'\n",
    "    RRt = R - np.transpose(R)\n",
    "    \n",
    "    # Calculate the trace the the matrix R\n",
    "    trace = np.trace(R)\n",
    "    \n",
    "    # Calculate theta\n",
    "    theta = math.atan2(math.sqrt(RRt.item(0,1)*RRt.item(0,1) +\n",
    "                                 RRt.item(0,2)*RRt.item(0,2) +\n",
    "                                 RRt.item(1,2)*RRt.item(1,2)), trace - 1)\n",
    "    \n",
    "    if (math.sin(theta) == 0):\n",
    "        if theta == 0:\n",
    "            raise Exception('ERROR: theta needs to be different than 0!')\n",
    "        elif math.abs(theta) == math.pi:\n",
    "            r = np.matrix([math.sqrt((R.item(0,0)+1)/2), math.sqrt((R.item(1,1)+1)/2), math.sqrt((R.item(2,2)+1)/2)])\n",
    "            %TODO Correct signs\n",
    "            raise Exception('Implement singular case!')\n",
    "        \n",
    "    # Calculate the unit vector r\n",
    "    r = 1/(2*math.sin(theta))*np.matrix([-RRt.item(1,2), RRt.item(0,2), -RRt.item(0,1)])\n",
    "    \n",
    "    return [theta, r]"
   ]
  },
  {
   "cell_type": "markdown",
   "metadata": {},
   "source": [
    "### Example\n",
    "Recover the angle $\\Pi$ and the vector $z$ given a rotational matrix $R$."
   ]
  },
  {
   "cell_type": "code",
   "execution_count": 58,
   "metadata": {
    "collapsed": false
   },
   "outputs": [
    {
     "name": "stdout",
     "output_type": "stream",
     "text": [
      "3.141592653589793\n",
      "[[ 0.  0.  1.]]\n"
     ]
    }
   ],
   "source": [
    "[theta, r] = inv_rotational(R)\n",
    "print(theta)\n",
    "print(r)"
   ]
  },
  {
   "cell_type": "markdown",
   "metadata": {},
   "source": [
    "## Check if $R$ is a rotational matrix\n",
    "Return $True$ if matrix $R$ has the following properties to be rotational:\n",
    "* Determinant equal to +1\n",
    "* Its inverse is equal to its transpose"
   ]
  },
  {
   "cell_type": "code",
   "execution_count": 75,
   "metadata": {
    "collapsed": false
   },
   "outputs": [
    {
     "data": {
      "text/plain": [
       "True"
      ]
     },
     "execution_count": 75,
     "metadata": {},
     "output_type": "execute_result"
    }
   ],
   "source": [
    "def is_rotational(R):\n",
    "    # Check if R is ortogonal an\n",
    "    if np.array_equal(np.transpose(R), np.linalg.inv(R)) and \\\n",
    "        np.linalg.det(R) == 1:\n",
    "        return True\n",
    "\n",
    "is_rotational(R)"
   ]
  }
 ],
 "metadata": {
  "kernelspec": {
   "display_name": "Python 3",
   "language": "python",
   "name": "python3"
  },
  "language_info": {
   "codemirror_mode": {
    "name": "ipython",
    "version": 3
   },
   "file_extension": ".py",
   "mimetype": "text/x-python",
   "name": "python",
   "nbconvert_exporter": "python",
   "pygments_lexer": "ipython3",
   "version": "3.6.0"
  }
 },
 "nbformat": 4,
 "nbformat_minor": 2
}
